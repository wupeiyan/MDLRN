{
 "cells": [
  {
   "attachments": {},
   "cell_type": "markdown",
   "metadata": {},
   "source": [
    "Load packages"
   ]
  },
  {
   "cell_type": "code",
   "execution_count": null,
   "metadata": {
    "vscode": {
     "languageId": "r"
    }
   },
   "outputs": [],
   "source": [
    "rm(list = ls())\n",
    "library(car)\n",
    "library(rms)\n",
    "library(pROC)\n",
    "library(rmda)\n",
    "library(PredictABEL)\n",
    "library(reportROC)\n",
    "library(predtools)\n",
    "library(magrittr)\n",
    "library(dplyr)\n",
    "library(dcurves)\n",
    "library(caret)\n",
    "library(nomogramFormula)"
   ]
  },
  {
   "attachments": {},
   "cell_type": "markdown",
   "metadata": {},
   "source": [
    "Load data"
   ]
  },
  {
   "cell_type": "code",
   "execution_count": null,
   "metadata": {
    "vscode": {
     "languageId": "r"
    }
   },
   "outputs": [],
   "source": [
    "PC_origin <-read.csv('form/merge/pc.csv') \n",
    "PC <-read.csv('form/merge/pc_zscore.csv')\n",
    "VC <-read.csv('form/merge/vc_zscore.csv')\n",
    "TC1 <-read.csv('form/merge/tc1_zscore.csv') \n",
    "TC2 <-read.csv('form/merge/tc2_zscore.csv') \n",
    "dd <- datadist(PC)\n",
    "old_options<- options(datadist = 'dd')"
   ]
  },
  {
   "attachments": {},
   "cell_type": "markdown",
   "metadata": {},
   "source": [
    "MODEL"
   ]
  },
  {
   "cell_type": "code",
   "execution_count": null,
   "metadata": {
    "vscode": {
     "languageId": "r"
    }
   },
   "outputs": [],
   "source": [
    "colnames(PC_origin) <- c(\"names\", \"label\", \"Age\", \"tuber\", \"Breast long\", \"Breast short\", \"Rad score\", \"DL score\")\n",
    "colnames(PC) <- c(\"names\", \"label\", \"Age\", \"tuber\", \"Breast long\", \"Breast short\", \"Rad score\", \"DL score\")\n",
    "colnames(VC) <- c(\"names\", \"label\", \"Age\", \"tuber\", \"Breast long\", \"Breast short\", \"Rad score\", \"DL score\")\n",
    "colnames(TC1) <- c(\"names\", \"label\", \"Age\", \"tuber\", \"Breast long\", \"Breast short\", \"Rad score\", \"DL score\")\n",
    "colnames(TC2) <- c(\"names\", \"label\", \"Age\", \"tuber\", \"Breast long\", \"Breast short\", \"Rad score\", \"DL score\")"
   ]
  },
  {
   "cell_type": "code",
   "execution_count": null,
   "metadata": {
    "vscode": {
     "languageId": "r"
    }
   },
   "outputs": [],
   "source": [
    "DLRN <- lrm(label~Age + `Breast long` + `Breast short` + `Rad score` + `DL score`, data = PC, x = TRUE, y = TRUE, maxit = 1000)\n",
    "DLRN"
   ]
  },
  {
   "cell_type": "code",
   "execution_count": null,
   "metadata": {
    "vscode": {
     "languageId": "r"
    }
   },
   "outputs": [],
   "source": [
    "Clinical <- lrm(label~Age + `Breast long` + `Breast short` + tuber, data = PC,x = TRUE, y = TRUE , maxit = 1000)\n",
    "Radiomics <- lrm(label~`Rad score`, data = PC,x = TRUE, y = TRUE , maxit = 1000)\n",
    "DL <- lrm(label~`DL score`, data = PC, x = TRUE, y = TRUE , maxit = 1000)"
   ]
  },
  {
   "attachments": {},
   "cell_type": "markdown",
   "metadata": {},
   "source": [
    "SAVE model predict prob"
   ]
  },
  {
   "cell_type": "code",
   "execution_count": null,
   "metadata": {
    "vscode": {
     "languageId": "r"
    }
   },
   "outputs": [],
   "source": [
    "dir.create('form/prob')"
   ]
  },
  {
   "cell_type": "code",
   "execution_count": null,
   "metadata": {
    "vscode": {
     "languageId": "r"
    }
   },
   "outputs": [],
   "source": [
    "DLRN_PC = predict(DLRN, type=\"fitted\", newdata=PC)\n",
    "Clinical_PC = predict(Clinical, type=\"fitted\", newdata=PC)\n",
    "Radiomics_PC = predict(Radiomics, type=\"fitted\", newdata=PC)\n",
    "DL_PC = predict(DL, type=\"fitted\", newdata=PC)\n",
    "\n",
    "DLRN_VC = predict(DLRN, type=\"fitted\", newdata=VC)\n",
    "Clinical_VC = predict(Clinical, type=\"fitted\", newdata=VC)\n",
    "Radiomics_VC = predict(Radiomics, type=\"fitted\", newdata=VC)\n",
    "DL_VC = predict(DL, type=\"fitted\", newdata=VC)\n",
    "\n",
    "DLRN_TC1 = predict(DLRN, type=\"fitted\", newdata=TC1)\n",
    "Clinical_TC1 = predict(Clinical, type=\"fitted\", newdata=TC1)\n",
    "Radiomics_TC1 = predict(Radiomics, type=\"fitted\", newdata=TC1)\n",
    "DL_TC1 = predict(DL, type=\"fitted\", newdata=TC1)\n",
    "\n",
    "DLRN_TC2 = predict(DLRN, type=\"fitted\", newdata=TC2)\n",
    "Clinical_TC2 = predict(Clinical, type=\"fitted\", newdata=TC2)\n",
    "Radiomics_TC2 = predict(Radiomics, type=\"fitted\", newdata=TC2)\n",
    "DL_TC2 = predict(DL, type=\"fitted\", newdata=TC2)\n",
    "\n",
    "df_tra <- data.frame(\n",
    "    names = PC['names'],\n",
    "    DLRN_PC = DLRN_PC,\n",
    "    Clinical_PC = Clinical_PC,\n",
    "    Radiomics_PC = Radiomics_PC,\n",
    "    DL_PC = DL_PC\n",
    ")\n",
    "\n",
    "df_val <- data.frame(\n",
    "    names = VC['names'],\n",
    "    DLRN_VC = DLRN_VC,\n",
    "    Clinical_VC = Clinical_VC,\n",
    "    Radiomics_VC = Radiomics_VC,\n",
    "    DL_VC = DL_VC\n",
    ")\n",
    "\n",
    "df_tc1 <- data.frame(\n",
    "    names = TC1['names'],\n",
    "    DLRN_TC1 = DLRN_TC1,\n",
    "    Clinical_TC1 = Clinical_TC1,\n",
    "    Radiomics_TC1 = Radiomics_TC1,\n",
    "    DL_TC1 = DL_TC1\n",
    ")\n",
    "\n",
    "df_tc2 <- data.frame(\n",
    "    names = TC2['names'],\n",
    "    DLRN_TC2 = DLRN_TC2,\n",
    "    Clinical_TC2 = Clinical_TC2,\n",
    "    Radiomics_TC2 = Radiomics_TC2,\n",
    "    DL_TC2 = DL_TC2\n",
    ")\n",
    "\n",
    "write.csv(df_tra, 'form/prob/pc.csv', row.names = FALSE)\n",
    "write.csv(df_val, 'form/prob/vc.csv', row.names = FALSE)\n",
    "write.csv(df_tc1, 'form/prob/tc1.csv', row.names = FALSE)\n",
    "write.csv(df_tc2, 'form/prob/tc2.csv', row.names = FALSE)"
   ]
  },
  {
   "attachments": {},
   "cell_type": "markdown",
   "metadata": {},
   "source": [
    "### 95% CI for OR"
   ]
  },
  {
   "cell_type": "code",
   "execution_count": null,
   "metadata": {
    "vscode": {
     "languageId": "r"
    }
   },
   "outputs": [],
   "source": [
    "report_roc <- function(data, model){\n",
    "    modelroc <- roc(data$label, predict(model, type='fitted', newdata=data))\n",
    "    coords(modelroc, \"best\", ret=c(\"threshold\", \"specificity\", \"sensitivity\", \"accuracy\"))\n",
    "    \n",
    "    detailROC <-reportROC(gold=data$label, predictor = predict(model, type='fitted', newdata=data))\n",
    "    print(paste0('AUC(95%CI):',detailROC['AUC'],'(',paste(detailROC['AUC.low'],detailROC['AUC.up'],sep='-'),')'))\n",
    "    print(paste0('ACC(95%CI):',detailROC['ACC'],'(',paste(detailROC['ACC.low'],detailROC['ACC.up'],sep='-'),')'))\n",
    "    print(paste0('SEN(95%CI):',detailROC['SEN'],'(',paste(detailROC['SEN.low'],detailROC['SEN.up'],sep='-'),')'))\n",
    "    print(paste0('SPE(95%CI):',detailROC['SPE'],'(',paste(detailROC['SPE.low'],detailROC['SPE.up'],sep='-'),')'))\n",
    "}"
   ]
  },
  {
   "cell_type": "code",
   "execution_count": null,
   "metadata": {
    "vscode": {
     "languageId": "r"
    }
   },
   "outputs": [],
   "source": [
    "report_roc(PC, DLRN)\n",
    "report_roc(VC, DLRN)\n",
    "report_roc(TC1, DLRN)\n",
    "report_roc(TC2, DLRN)\n",
    "\n",
    "report_roc(PC, DL)\n",
    "report_roc(VC, DL)\n",
    "report_roc(TC1, DL)\n",
    "report_roc(TC2, DL)\n",
    "\n",
    "report_roc(PC, Radiomics)\n",
    "report_roc(VC, Radiomics)\n",
    "report_roc(TC1, Radiomics)\n",
    "report_roc(TC2, Radiomics)\n",
    "\n",
    "report_roc(PC, Clinical)\n",
    "report_roc(VC, Clinical)\n",
    "report_roc(TC1, Clinical)\n",
    "report_roc(TC2, Clinical)"
   ]
  },
  {
   "attachments": {},
   "cell_type": "markdown",
   "metadata": {},
   "source": [
    "### nomogram"
   ]
  },
  {
   "cell_type": "code",
   "execution_count": null,
   "metadata": {
    "vscode": {
     "languageId": "r"
    }
   },
   "outputs": [],
   "source": [
    "dd <- datadist(PC)\n",
    "old_options"
   ]
  },
  {
   "cell_type": "code",
   "execution_count": null,
   "metadata": {
    "vscode": {
     "languageId": "r"
    }
   },
   "outputs": [],
   "source": [
    "nom <- nomogram(DLRN ,fun= function(x)1/(1+exp(-x)), #逻辑回归公式\n",
    "                fun.at = c(0.01,0.1,0.5,0.9,0.99),#风险轴刻度\n",
    "                funlabel=\"Risk\", #风险轴便签\n",
    "                lp=F ,#是否显示系数轴\n",
    "                conf.int = F\n",
    "                # nint =4\n",
    "                )\n",
    "                # maxscale = 100\n",
    "                # addrev=F)\n",
    "nom"
   ]
  },
  {
   "cell_type": "code",
   "execution_count": null,
   "metadata": {
    "vscode": {
     "languageId": "r"
    }
   },
   "outputs": [],
   "source": [
    "dir.create('form/nom_score')"
   ]
  },
  {
   "cell_type": "code",
   "execution_count": null,
   "metadata": {
    "vscode": {
     "languageId": "r"
    }
   },
   "outputs": [],
   "source": [
    "options(old_options)\n",
    "\n",
    "\n",
    "results <- formula_rd(nomogram = nom)\n",
    "\n",
    "nom_score <- points_cal(formula = results$formula, rd = PC)\n",
    "# boxplot(nom_score[PC$label == 0],nom_score[PC$label == 1],names = c(\"0\",\"1\"),col = colors()[10:11])\n",
    "df <- data.frame(pred = points_cal(formula = results$formula, rd = PC), label = PC$label)\n",
    "write.csv(df, 'form/nom_score/pc.csv',row.names = FALSE)\n",
    "\n",
    "nom_score <- points_cal(formula = results$formula, rd = VC)\n",
    "# boxplot(nom_score[VC$label == 0],nom_score[VC$label == 1],names = c(\"0\",\"1\"),col = colors()[10:11])\n",
    "df <- data.frame(pred = points_cal(formula = results$formula, rd = VC), label = VC$label)\n",
    "write.csv(df, 'form/nom_score/vc.csv',row.names = FALSE)\n",
    "\n",
    "nom_score <- points_cal(formula = results$formula, rd = TC1)\n",
    "# boxplot(nom_score[TC1$label == 0],nom_score[TC1$label == 1],names = c(\"0\",\"1\"),col = colors()[10:11])\n",
    "df <- data.frame(pred = points_cal(formula = results$formula, rd = TC1), label = TC1$label)\n",
    "write.csv(df, 'form/nom_score/tc1.csv',row.names = FALSE)\n",
    "\n",
    "nom_score <- points_cal(formula = results$formula, rd = TC1)\n",
    "# boxplot(nom_score[TC2$label == 0],nom_score[TC2$label == 1],names = c(\"0\",\"1\"),col = colors()[10:11])\n",
    "df <- data.frame(pred = points_cal(formula = results$formula, rd = TC2), label = TC2$label)\n",
    "write.csv(df, 'form/nom_score/tc2.csv',row.names = FALSE)"
   ]
  },
  {
   "cell_type": "code",
   "execution_count": null,
   "metadata": {
    "vscode": {
     "languageId": "r"
    }
   },
   "outputs": [],
   "source": [
    "#临床数据的诺模图数值映射\n",
    "# for (i in colnames(PC_origin)) { \n",
    "#     if (i == \"label\") {next}\n",
    "#     #nom[[i]][[i]] = round(nom[[i]][[i]]*sd(unlist(PC_souce[i]))+mean(unlist(PC_souce[i])))\n",
    "#     #next\n",
    "#     if (i == \"Age\" || i == \"Breast long\" || i == \"Breast short\") {\n",
    "#         nom[[i]][[i]] = round(nom[[i]][[i]]*sd(unlist(PC_origin[i]))+mean(unlist(PC_origin[i])))\n",
    "#         next\n",
    "#     }\n",
    "    # if (i == \"Rad score\" || i == \"DL score\"){\n",
    "    #     nom[[i]][[i]] = round(nom[[i]][[i]]*sd(unlist(PC_origin[i]))+mean(unlist(PC_origin[i])))\n",
    "    #     next\n",
    "    # }\n",
    "}\n",
    "\n",
    "# pdf(\"plot/DLRN_nomogram.pdf\", width = 10, height = 8,family=\"GB1\") \n",
    "# plot(nom,\n",
    "#      xfrac = 0.35,\n",
    "#      cex.var=1.1,\n",
    "#      cex.axis=1,\n",
    "#      label.every=1,\n",
    "#      tcl=-0.2,\n",
    "#      lmgp = 0.5,\n",
    "#      force.label=F\n",
    "# )\n",
    "# dev.off()\n"
   ]
  }
 ],
 "metadata": {
  "kernelspec": {
   "display_name": "R",
   "language": "R",
   "name": "ir"
  },
  "language_info": {
   "codemirror_mode": "r",
   "file_extension": ".r",
   "mimetype": "text/x-r-source",
   "name": "R",
   "pygments_lexer": "r",
   "version": "4.3.0"
  },
  "orig_nbformat": 4
 },
 "nbformat": 4,
 "nbformat_minor": 2
}
